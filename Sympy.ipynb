{
 "cells": [
  {
   "cell_type": "code",
   "execution_count": 79,
   "metadata": {},
   "outputs": [],
   "source": [
    "from sympy import *\n",
    "from sympy.physics.quantum import Dagger\n",
    "from sympy.physics.quantum.tensorproduct import TensorProduct\n",
    "from sympy import Symbol "
   ]
  },
  {
   "cell_type": "code",
   "execution_count": 49,
   "metadata": {},
   "outputs": [],
   "source": [
    "destroy = Matrix([[0,1],[0,0]])\n",
    "create = Matrix([[0,0],[1,0]])\n",
    "eye = Matrix([[1,0], [0,1]])\n"
   ]
  },
  {
   "cell_type": "code",
   "execution_count": 70,
   "metadata": {},
   "outputs": [],
   "source": [
    "a = []\n",
    "\n",
    "op = TensorProduct(eye, eye, destroy)\n",
    "i = TensorProduct(eye, eye, eye)\n",
    "a.append(TensorProduct(i, op))\n",
    "a.append(TensorProduct(op, i))"
   ]
  },
  {
   "cell_type": "code",
   "execution_count": 74,
   "metadata": {
    "scrolled": false
   },
   "outputs": [],
   "source": [
    "s = []\n",
    "op = TensorProduct(eye, destroy, eye)\n",
    "s.append(TensorProduct(i,op))\n",
    "s.append(TensorProduct(i,op))\n",
    "\n",
    "op = TensorProduct(destroy, eye, eye)\n",
    "s.append(TensorProduct(i,op))\n",
    "s.app1end(TensorProduct(i,op))"
   ]
  },
  {
   "cell_type": "code",
   "execution_count": 82,
   "metadata": {},
   "outputs": [],
   "source": [
    "w = 0\n",
    "we_list = [0]*4\n",
    "H = zeros(64,64)\n",
    "g = Symbol('g')\n",
    "J = Symbol('J')\n",
    "\n",
    "\n",
    "H = H + g * (Dagger(s[0])*a[0] + Dagger(a[0]) * s[0])\n",
    "H = H + g * (Dagger(s[1])*a[0] + Dagger(a[0]) * s[1])\n",
    "H = H + g * (Dagger(s[2])*a[1] + Dagger(a[1]) * s[2])\n",
    "H = H + g * (Dagger(s[3])*a[1] + Dagger(a[1]) * s[3])\n",
    "\n",
    "H = H - J * (Dagger(a[0]) * a[1] + Dagger(a[1]) * a[0])"
   ]
  },
  {
   "cell_type": "code",
   "execution_count": null,
   "metadata": {},
   "outputs": [],
   "source": [
    "H.eigenvals()"
   ]
  },
  {
   "cell_type": "code",
   "execution_count": null,
   "metadata": {},
   "outputs": [],
   "source": []
  }
 ],
 "metadata": {
  "kernelspec": {
   "display_name": "Python 3",
   "language": "python",
   "name": "python3"
  },
  "language_info": {
   "codemirror_mode": {
    "name": "ipython",
    "version": 3
   },
   "file_extension": ".py",
   "mimetype": "text/x-python",
   "name": "python",
   "nbconvert_exporter": "python",
   "pygments_lexer": "ipython3",
   "version": "3.7.7"
  }
 },
 "nbformat": 4,
 "nbformat_minor": 4
}
